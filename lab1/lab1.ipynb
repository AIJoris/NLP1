{
 "cells": [
  {
   "cell_type": "code",
   "execution_count": 1,
   "metadata": {
    "collapsed": true
   },
   "outputs": [],
   "source": [
    "%matplotlib inline\n",
    "import matplotlib\n",
    "import numpy as np\n",
    "import matplotlib.pyplot as plt"
   ]
  },
  {
   "cell_type": "markdown",
   "metadata": {},
   "source": [
    "# Lab 1: Text Corpora and Language Modelling\n",
    "\n",
    "This lab is meant to help you get familiar with some language data, and use this data to estimate N-gram language models\n",
    "\n",
    "First you will use the **Penn Treebank**, which is a collection of newspaper articles from the newspaper \n",
    "The Wall Street Journal. The idea is to examine the data and notice interesting properties. This will not take more than a few lines of code.\n",
    "\n",
    "Then you will use a corpus consisting of **TedX** talks. This you will use to estimate an **N-gram language model** for different orders of N, and use this this for some tasks.\n",
    "\n",
    "The datasets are on blackboard under course materials. Download the zip and make sure to put the files in the same directory as the notebook.\n",
    "\n",
    "### Rules\n",
    "* The lab exercises should be made in **groups of two people**.\n",
    "\n",
    "* The deadline is **Tuesday 7 nov 16:59**.\n",
    "\n",
    "* The assignment should submitted to **Blackboard** as `.ipynb`. Only **one submission per group**.\n",
    "\n",
    "* The **filename** should be `lab1_lastname1_lastname2.ipynb`, so for example `lab1_Jurafsky_Martin.ipynb`.\n",
    "\n",
    "* The notebook is graded on a scale of **0-10**. The number of points for each question is indicated in parantheses. \n",
    "\n",
    "* The questions marked **optional** are not graded; they are an additional challenge for those interested in going the extra mile. \n",
    "\n",
    "Notes on implementation:\n",
    "\n",
    "* You should **write your code and answers in this iPython Notebook** (see http://ipython.org/notebook.html for reference material). If you have problems, please contact your teaching assistant.\n",
    "\n",
    "* Use only **one cell for code** and **one cell for markdown** answers!    \n",
    "\n",
    "    * Put all code in the cell with the `# YOUR CODE HERE` comment.\n",
    "    \n",
    "    * For theoretical question, put your solution in the YOUR ANSWER HERE cell.\n",
    "    \n",
    "* Test your code and **make sure we can run your notebook**"
   ]
  },
  {
   "cell_type": "markdown",
   "metadata": {},
   "source": [
    "# 1. Penn treebank\n",
    "\n",
    "## Exercise 1.1 (40 points, 5 points per subquestion )\n",
    "\n",
    "You are provided with a corpus containing words with their Part-of-Speech tags (POS-tags for short). The format is\n",
    "**word|POS** (one sentence per line) and the file name is **sec02-22.gold.tagged**. This data is extracted from Sections 02-22 from the Penn Treebank: these sections are most commonly used for training statistical models like POS-taggers and parsers.\n",
    "\n",
    "**[Hint]** **Figure 10.1** in chapter 10 of Jurafsky and Martin (see [here](https://web.stanford.edu/~jurafsky/slp3/10.pdf)) holds a summary of the 45 POS-tags used in the Penn Treebank tagset together with their meaning and some examples. (If you are keen on learning more about the word-classes represented POS-tags and their definitions you can do a litle reading ahead for next week and already have a look at section 10.1 of the same chapter).\n",
    "\n",
    "**[Hint]** the Python library [collections](https://docs.python.org/2/library/collections.html) has an object called `Counter` which will come in handy for this exercise."
   ]
  },
  {
   "cell_type": "markdown",
   "metadata": {},
   "source": [
    " "
   ]
  },
  {
   "cell_type": "markdown",
   "metadata": {},
   "source": [
    "**(a)** How large is the corpus? (i.e. how **many tokens**). And what is the size of the **vocabulary** used in this corpus? \n",
    "\n",
    "Estimate the vocabulary size both by **lowercasing** all the words as well as by leaving the words in their **original orthography**. What is an advantage of lowercasing all the words in your corpus? What is a notable downside? **Give examples.**"
   ]
  },
  {
   "cell_type": "code",
   "execution_count": 2,
   "metadata": {},
   "outputs": [
    {
     "name": "stdout",
     "output_type": "stream",
     "text": [
      "Number of tokens in corpus:  929552\n",
      "Vocabulary size when leaving words in their original orthography:  44210\n",
      "Vocabulary size when lowercasing words:  39384\n"
     ]
    }
   ],
   "source": [
    "from collections import Counter\n",
    "\n",
    "token_pos = []\n",
    "\n",
    "with open('wsj/sec02-21.gold.tagged','r') as f:\n",
    "    for line in f:\n",
    "        for word in line.split():\n",
    "            token_pos.append(word)\n",
    "\n",
    "tokens = [t.split('|')[0] for t in token_pos]\n",
    "print('Number of tokens in corpus: ', len(tokens))\n",
    "\n",
    "counter_tokens = Counter(tokens)\n",
    "print('Vocabulary size when leaving words in their original orthography: ',len(counter_tokens))\n",
    "    \n",
    "tokens_lowercased = [t.lower() for t in tokens]\n",
    "print('Vocabulary size when lowercasing words: ',len(Counter(tokens_lowercased)))"
   ]
  },
  {
   "cell_type": "markdown",
   "metadata": {},
   "source": [
    "An advantage of lowercasing words in corpus is that it allows words at the beginning of a sentence to match with the same word at another position. For example, consider a system where the user can send queries: lowercasing allows instances of 'Automobile' at the beginning of a sentence to match with a query of 'automobile'.\n",
    "\n",
    "A notable downside occurs when lowercasing an acronym that is also a word (when lowercased). Consider for example the acronym WASP (White anglo saxon protestant). When lowercased this leads to wasp, which is clearly a completely different concept."
   ]
  },
  {
   "cell_type": "markdown",
   "metadata": {},
   "source": [
    "------\n",
    "For the rest of this exercise you should use the **original orthography** of the data when answering the questions.\n",
    "\n",
    "------\n"
   ]
  },
  {
   "cell_type": "markdown",
   "metadata": {},
   "source": [
    "**(b)** Plot a graph of word frequency versus rank of a word, in this corpus. Does this corpus obey **Zipf’s law**?"
   ]
  },
  {
   "cell_type": "code",
   "execution_count": 3,
   "metadata": {},
   "outputs": [
    {
     "data": {
      "image/png": "[encoded data removed]",
      "text/plain": [
       "<matplotlib.figure.Figure at 0x7fb8a3cf75c0>"
      ]
     },
     "metadata": {},
     "output_type": "display_data"
    }
   ],
   "source": [
    "import matplotlib.pyplot as plt\n",
    "\n",
    "i = 1\n",
    "rank = []\n",
    "frequency = []\n",
    "for key, value in counter_tokens.most_common():\n",
    "    rank.append(i)\n",
    "    frequency.append(value)\n",
    "    i += 1\n",
    "\n",
    "plt.loglog(rank, frequency)\n",
    "plt.xlabel('Rank')\n",
    "plt.ylabel('Frequency')\n",
    "plt.show()\n",
    "\n",
    "# Yes, this corpus obeys Zipf's law"
   ]
  },
  {
   "cell_type": "markdown",
   "metadata": {},
   "source": [
    "**(c)** What are the **20 most common words** in the corpus and how often do they occur? What is the 50th most common word, the 100th and the 1000th and how often do they occur?"
   ]
  },
  {
   "cell_type": "code",
   "execution_count": 4,
   "metadata": {},
   "outputs": [
    {
     "name": "stdout",
     "output_type": "stream",
     "text": [
      "20 most common words and number of appearences:\n",
      ", \t 48310\n",
      "the \t 40839\n",
      ". \t 38798\n",
      "of \t 22782\n",
      "to \t 22056\n",
      "a \t 19171\n",
      "and \t 15906\n",
      "in \t 15085\n",
      "'s \t 9249\n",
      "that \t 7951\n",
      "for \t 7912\n",
      "$ \t 7125\n",
      "is \t 6893\n",
      "The \t 6791\n",
      "said \t 5597\n",
      "on \t 5112\n",
      "% \t 4871\n",
      "it \t 4639\n",
      "by \t 4450\n",
      "from \t 4437\n",
      "\n",
      "50th most common word and number of occurrences: ('had', 1755)\n",
      "\n",
      "100th most common word and number of occurrences: ('A', 860)\n",
      "\n",
      "1000th most common word and number of occurrences: ('man', 109)\n"
     ]
    }
   ],
   "source": [
    "def print_dict(d):\n",
    "    for k,v in d:\n",
    "        print(k, '\\t', v)\n",
    "\n",
    "print('20 most common words and number of appearences:')\n",
    "print_dict(counter_tokens.most_common(20))\n",
    "\n",
    "print('\\n50th most common word and number of occurrences:', counter_tokens.most_common(50)[-1])\n",
    "\n",
    "print('\\n100th most common word and number of occurrences:', counter_tokens.most_common(100)[-1])\n",
    "\n",
    "print('\\n1000th most common word and number of occurrences:', counter_tokens.most_common(1000)[-1])"
   ]
  },
  {
   "cell_type": "markdown",
   "metadata": {},
   "source": [
    "**(d)** How many different Part-of-speech tags are present in the corpus?"
   ]
  },
  {
   "cell_type": "code",
   "execution_count": 5,
   "metadata": {
    "scrolled": true
   },
   "outputs": [
    {
     "name": "stdout",
     "output_type": "stream",
     "text": [
      "Number of different Part-of-speech tags in corpus:  48\n"
     ]
    }
   ],
   "source": [
    "POS_tags = [pos.split('|')[1] for pos in token_pos]\n",
    "\n",
    "counter_POS = Counter(POS_tags)\n",
    "print('Number of different Part-of-speech tags in corpus: ', len(counter_POS))"
   ]
  },
  {
   "cell_type": "markdown",
   "metadata": {},
   "source": [
    "**(e)** Print a list of the **10 most commonly occurring POS tags** in the data. For each of these POS tags, what are the **3 most common words** that belong to that class?"
   ]
  },
  {
   "cell_type": "code",
   "execution_count": 6,
   "metadata": {},
   "outputs": [
    {
     "name": "stdout",
     "output_type": "stream",
     "text": [
      "10 most commonly occurring POS tags and their 3 most common words (+ counts):\n",
      "NN \t [('%', 4866), ('company', 2457), ('year', 2220)]\n",
      "IN \t [('of', 22778), ('in', 14852), ('for', 7907)]\n",
      "NNP \t [('Mr.', 4147), ('U.S.', 1577), ('Corp.', 1186)]\n",
      "DT \t [('the', 40831), ('a', 19151), ('The', 6753)]\n",
      "JJ \t [('new', 1396), ('other', 1298), ('last', 990)]\n",
      "NNS \t [('years', 1164), ('shares', 1128), ('sales', 939)]\n",
      ", \t [(',', 48310), ('an', 1), ('2', 1)]\n",
      ". \t [('.', 38798), ('?', 392), ('!', 62)]\n",
      "CD \t [('million', 4355), ('billion', 1780), ('one', 1203)]\n",
      "RB \t [(\"n't\", 3211), ('also', 1420), ('not', 1287)]\n"
     ]
    }
   ],
   "source": [
    "token_pos_count = Counter()\n",
    "\n",
    "for i in range(len(tokens)):\n",
    "    token_pos_count[(tokens[i], POS_tags[i])] += 1\n",
    "\n",
    "print('10 most commonly occurring POS tags and their 3 most common words (+ counts):')\n",
    "    \n",
    "for pos, count in counter_POS.most_common(10):\n",
    "    most_common = []\n",
    "    \n",
    "    for x, count in token_pos_count.most_common():\n",
    "        if len(most_common) > 2:\n",
    "            break\n",
    "        if x[1] == pos:\n",
    "            most_common.append((x[0], count))\n",
    "    print(pos, '\\t', most_common)"
   ]
  },
  {
   "cell_type": "markdown",
   "metadata": {},
   "source": [
    "**(f)** A single word may have several POS-tags. For example, *record* can be a both a **noun** *(buy a record)* or a **verb** *(record a lecture)*. This make POS-tags extremely useful for **disambiguation**.\n",
    "\n",
    "What percentage of the words in the vocabulary is **ambiguous**? (i.e. have more than one POS tag?) What are the 10 most frequent combinations of POS tags in the case of ambitguity? Which words are **most ambiguous**? Give some of them."
   ]
  },
  {
   "cell_type": "code",
   "execution_count": 7,
   "metadata": {
    "scrolled": true
   },
   "outputs": [
    {
     "name": "stdout",
     "output_type": "stream",
     "text": [
      "percentage of ambiguous words in vocabulary:  0.13469803211943\n",
      "\n",
      "10 most frequent combinations of POS tags in the case of ambiguity:\n",
      "('VBD', 'VBN') \t\t count = 772\n",
      "('JJ', 'NN') \t\t count = 662\n",
      "('NN', 'NNP') \t\t count = 549\n",
      "('VB', 'VBP') \t\t count = 375\n",
      "('NNS', 'VBZ') \t\t count = 355\n",
      "('NN', 'VB') \t\t count = 351\n",
      "('NN', 'VBG') \t\t count = 315\n",
      "('JJ', 'VBD', 'VBN') \t\t count = 237\n",
      "('NN', 'VB', 'VBP') \t\t count = 233\n",
      "('JJ', 'NNP') \t\t count = 218\n",
      "\n",
      "some words that are most ambiguous:\n",
      "set \t unique POS count = 7\n",
      "many \t unique POS count = 7\n",
      "open \t unique POS count = 7\n",
      "down \t unique POS count = 7\n",
      "in \t unique POS count = 6\n",
      "that \t unique POS count = 6\n",
      "own \t unique POS count = 6\n",
      "cut \t unique POS count = 6\n",
      "point \t unique POS count = 6\n",
      "left \t unique POS count = 6\n"
     ]
    }
   ],
   "source": [
    "from collections import defaultdict\n",
    "import itertools\n",
    "\n",
    "d = defaultdict(list)\n",
    "\n",
    "# create token dict of structure: {word: [POS1, ..., POS_n]}\n",
    "for token in token_pos:\n",
    "    t, pos = [token.split('|')[0], token.split('|')[1]]\n",
    "    if pos not in d[t]:\n",
    "        d[t].append(pos)\n",
    "        \n",
    "\n",
    "# find all ambiguous words (i.e. POS list in d > 1)\n",
    "ambig_count = 0\n",
    "ambiguous = []\n",
    "for w in d:\n",
    "    if len(d[w]) > 1:\n",
    "        ambig_count += 1\n",
    "        ambiguous.append(w)\n",
    "\n",
    "print('percentage of ambiguous words in vocabulary: ', ambig_count/len(d))\n",
    "\n",
    "# find 10 most frequent combinations by creating powerset (of only length 2),\n",
    "# and counting number of occurrences.\n",
    "freq_combs = Counter()\n",
    "\n",
    "for t in d:    \n",
    "    if len(tuple(d[t])) > 1:\n",
    "        freq_combs[tuple(sorted(d[t]))] += 1\n",
    "\n",
    "print('\\n10 most frequent combinations of POS tags in the case of ambiguity:')\n",
    "for pos, count in freq_combs.most_common(10):\n",
    "    print(pos, '\\t\\t count =', count)\n",
    "\n",
    "# find most ambiguous POS tags by checking lengths of all POS lists\n",
    "most_ambiguous = Counter()\n",
    "\n",
    "for t in d:\n",
    "    most_ambiguous[t] += len(d[t])\n",
    "\n",
    "print('\\nsome words that are most ambiguous:')\n",
    "for w, count in most_ambiguous.most_common(10):\n",
    "    print(w, '\\t unique POS count =', count)"
   ]
  },
  {
   "cell_type": "markdown",
   "metadata": {},
   "source": [
    "**(g)**  Print some of these words with their multiple POS-tags. Do you **understand the ambiguity**? Use figure 10.1 mentioned above to interpret the POS-tags."
   ]
  },
  {
   "cell_type": "code",
   "execution_count": 8,
   "metadata": {},
   "outputs": [
    {
     "name": "stdout",
     "output_type": "stream",
     "text": [
      "POS tags of \"set\": \t ['VBN', 'NN', 'VBD', 'VB', 'VBP', 'JJ', 'VBZ']\n",
      "\n",
      "POS tags of \"open\": \t ['VB', 'JJ', 'RP', 'RB', 'VBP', 'NN', 'VBZ']\n",
      "\n",
      "POS tags of \"own\": \t ['JJ', 'VB', 'VBP', 'NN', 'VBZ', 'VBN']\n"
     ]
    }
   ],
   "source": [
    "print('POS tags of \"set\": \\t',d['set'])\n",
    "\n",
    "print('\\nPOS tags of \"open\": \\t',d['open'])\n",
    "\n",
    "print('\\nPOS tags of \"own\": \\t',d['own'])"
   ]
  },
  {
   "cell_type": "markdown",
   "metadata": {},
   "source": [
    "'set' can be used as noun (e.g. mathematical set), verb (in different forms: VBN, VBD, VB, VBP, VBZ which all have same form, namely 'set') and as an adjective. The ambiguity follows mainly from all the different verbal forms 'set' can be part of.\n",
    "\n",
    "'open' can be used as a verb (e.g. I open), adjective (e.g. open door), etc. This is where the ambiguity comes from.\n",
    "\n",
    "'own' can be used as verb (e.g. I own) and adjective (e.g. my own house) among others."
   ]
  },
  {
   "cell_type": "markdown",
   "metadata": {},
   "source": [
    "**(h)** Ambiguous words do not account for a great percentage of the vocabulary. Yet they are among the most commonly occuring words of the English language. What **percentage of the dataset is ambiguous**?"
   ]
  },
  {
   "cell_type": "code",
   "execution_count": 9,
   "metadata": {},
   "outputs": [
    {
     "name": "stdout",
     "output_type": "stream",
     "text": [
      "percentage of dataset that is ambiguous:  0.5507900580064375\n"
     ]
    }
   ],
   "source": [
    "words = [x.split('|')[0] for x in tokens]\n",
    "word_count = Counter(words)\n",
    "\n",
    "ambig_count = 0\n",
    "for amb in ambiguous:\n",
    "    ambig_count += word_count[amb]\n",
    "    \n",
    "print('percentage of dataset that is ambiguous: ', ambig_count/len(tokens))"
   ]
  },
  {
   "cell_type": "markdown",
   "metadata": {},
   "source": [
    "## Exercise 1.2 (10 points, 5 per subquestion)"
   ]
  },
  {
   "cell_type": "markdown",
   "metadata": {},
   "source": [
    "You are also provided with another file called **sec00.gold.tagged**. \n",
    "Section 00 of the Penn Treebank is typically used as development data."
   ]
  },
  {
   "cell_type": "markdown",
   "metadata": {},
   "source": [
    "**(a)** How many **unseen words** are present in the development data (i.e., words that have not occurred in the training data)?"
   ]
  },
  {
   "cell_type": "code",
   "execution_count": 10,
   "metadata": {
    "scrolled": false
   },
   "outputs": [
    {
     "name": "stdout",
     "output_type": "stream",
     "text": [
      "number of unseen words in development data:  1301\n"
     ]
    }
   ],
   "source": [
    "sec00 = []\n",
    "\n",
    "with open('wsj/sec00.gold.tagged','r') as f:\n",
    "    for line in f:\n",
    "        for x in line.split():\n",
    "            sec00.append(x)\n",
    "\n",
    "\n",
    "unseen = []\n",
    "\n",
    "for x in set(sec00):\n",
    "    if x.split('|')[0] not in tokens:\n",
    "        unseen.append(x)\n",
    "        \n",
    "print('number of unseen words in development data: ', len(unseen))"
   ]
  },
  {
   "cell_type": "markdown",
   "metadata": {},
   "source": [
    "**(b)** What are the three **POS tag categories** that the most **unseen words** belong to?"
   ]
  },
  {
   "cell_type": "code",
   "execution_count": 11,
   "metadata": {
    "scrolled": true
   },
   "outputs": [
    {
     "name": "stdout",
     "output_type": "stream",
     "text": [
      "most unseen words belong to:\n"
     ]
    },
    {
     "data": {
      "text/plain": [
       "[('NNP', 489), ('JJ', 236), ('NN', 175)]"
      ]
     },
     "execution_count": 11,
     "metadata": {},
     "output_type": "execute_result"
    }
   ],
   "source": [
    "print('most unseen words belong to:')\n",
    "Counter([x.split('|')[1] for x in unseen]).most_common(3)"
   ]
  },
  {
   "cell_type": "markdown",
   "metadata": {},
   "source": [
    "# 2. Language Models\n",
    "\n",
    "This part of the lab will be covered in the Wednesday lecture. If you have prior exposure to NLP, go ahead and finish this part! If you don't, start anyway, and this part will be clear after the lecture. \n",
    "\n",
    "Reference **chapter 4** of J&M *Language Modeling with N-Grams*. \n",
    "\n",
    "----------\n",
    "\n",
    "Models that assign **probabilities** to **sequences of words** are called language **language\n",
    "modelels** or **LMs**. The simplest model that assigns probabilities to sentences and sequences of words is the **N-gram** model.\n",
    "\n",
    "Recall that an *N*-gram language model uses **conditional probabilities** of the form\n",
    "    \n",
    "$$P(w_k \\mid w_{k-N+1} \\dots w_{k-1})$$\n",
    "\n",
    "to **approximate** the full **joint probability**\n",
    "\n",
    "$$P(w_1 \\dots w_n)$$\n",
    "\n",
    "of a sequence of words $w_1 \\dots w_n$.\n",
    "\n",
    "The easiest way of obtaining estimates for the probabilities $P(w_k \\mid w_{k-N+1} \\dots w_{k-1})$ is to use the **maximum likelihood estimate** or **MLE**, a widely used statistical estimation method ([read more]((https://en.wikipedia.org/wiki/Maximum_likelihood_estimation)). You count and normalize:\n",
    "\n",
    "$$P_{MLE}(w_k \\mid w_{k-N+1} \\dots w_{k-1}) = \\frac{C(w_{k-N+1} \\dots w_{k-1} w_k)}{C(w_{k-N+1} \\dots w_{k-1})}.$$\n",
    "\n",
    "\n",
    "## Exercise 2.1 (25 points)\n",
    "\n",
    "**(a) ** Complete the function `train_ngram` so that you can train a count-based $N$-gram language model on the data found in `data/ted-train.txt` and train this for $N=2,3,4$. **15 points**\n",
    "\n",
    "**(b) ** Extend the function above so that it accepts a parameter `k` for optional add-$k$ smoothing. **10 points**\n",
    "\n",
    "**[Datastructure hint]** If you store the smoothed language in a naive manner (that is, to store *all* the numbers separately) your datastructure will get huge! If $V$ is the vocabulary then the smoothed bigram model assigns probabilities to $|V|^2$ entries. If $|V|$ is around 80k, the naive way requires you to store more than 64 billion floats. Yet almost all of these are actually just $P(w_n|w_{n-1}) = \\frac{k}{N + k|V|}$, with $k$ the value with which you smooth and $N=C(w_{n-1})$. Think about how you use this fact to make your model work in practice."
   ]
  },
  {
   "cell_type": "markdown",
   "metadata": {},
   "source": [
    "**[Python hint]** The `collections` library has another useful datastructure: the `defaultdict`. Some example uses:"
   ]
  },
  {
   "cell_type": "code",
   "execution_count": 12,
   "metadata": {},
   "outputs": [
    {
     "data": {
      "text/plain": [
       "0.0"
      ]
     },
     "execution_count": 12,
     "metadata": {},
     "output_type": "execute_result"
    }
   ],
   "source": [
    "from collections import defaultdict\n",
    "\n",
    "d = defaultdict(float)\n",
    "d[\"new key\"]"
   ]
  },
  {
   "cell_type": "markdown",
   "metadata": {},
   "source": [
    "Compare that to an ordinary dictionary:"
   ]
  },
  {
   "cell_type": "code",
   "execution_count": 13,
   "metadata": {},
   "outputs": [
    {
     "ename": "KeyError",
     "evalue": "'new key'",
     "output_type": "error",
     "traceback": [
      "\u001b[0;31m---------------------------------------------------------------------------\u001b[0m",
      "\u001b[0;31mKeyError\u001b[0m                                  Traceback (most recent call last)",
      "\u001b[0;32m<ipython-input-13-c19a7fd7bc46>\u001b[0m in \u001b[0;36m<module>\u001b[0;34m()\u001b[0m\n\u001b[1;32m      1\u001b[0m \u001b[0md\u001b[0m \u001b[0;34m=\u001b[0m \u001b[0mdict\u001b[0m\u001b[0;34m(\u001b[0m\u001b[0;34m)\u001b[0m\u001b[0;34m\u001b[0m\u001b[0m\n\u001b[0;32m----> 2\u001b[0;31m \u001b[0md\u001b[0m\u001b[0;34m[\u001b[0m\u001b[0;34m\"new key\"\u001b[0m\u001b[0;34m]\u001b[0m\u001b[0;34m\u001b[0m\u001b[0m\n\u001b[0m",
      "\u001b[0;31mKeyError\u001b[0m: 'new key'"
     ]
    }
   ],
   "source": [
    "d = dict()\n",
    "d[\"new key\"]"
   ]
  },
  {
   "cell_type": "markdown",
   "metadata": {},
   "source": [
    "Other datatypes as `default_factory`:"
   ]
  },
  {
   "cell_type": "code",
   "execution_count": null,
   "metadata": {},
   "outputs": [],
   "source": [
    "d = defaultdict(int)\n",
    "d[\"new key\"]"
   ]
  },
  {
   "cell_type": "code",
   "execution_count": null,
   "metadata": {},
   "outputs": [],
   "source": [
    "d = defaultdict(list)\n",
    "d[\"new key\"]"
   ]
  },
  {
   "cell_type": "markdown",
   "metadata": {},
   "source": [
    "Converting an already existing `dict`:"
   ]
  },
  {
   "cell_type": "code",
   "execution_count": null,
   "metadata": {},
   "outputs": [],
   "source": [
    "d1 = {k: \"value\" for k in range(1, 11)}\n",
    "d = defaultdict(float, d1) # convert it to a defaultdict\n",
    "print(d[5])\n",
    "print(d[100])"
   ]
  },
  {
   "cell_type": "markdown",
   "metadata": {},
   "source": [
    "This doesn't work:"
   ]
  },
  {
   "cell_type": "code",
   "execution_count": null,
   "metadata": {},
   "outputs": [],
   "source": [
    "d = defaultdict(10)"
   ]
  },
  {
   "cell_type": "markdown",
   "metadata": {},
   "source": [
    "Use a `lambda` to make the number `10` `callable`\":"
   ]
  },
  {
   "cell_type": "code",
   "execution_count": null,
   "metadata": {},
   "outputs": [],
   "source": [
    "d = defaultdict(lambda: 10)\n",
    "d[\"new key\"]"
   ]
  },
  {
   "cell_type": "code",
   "execution_count": null,
   "metadata": {},
   "outputs": [],
   "source": [
    "d = defaultdict(lambda: defaultdict(float))\n",
    "d[\"new key\"]"
   ]
  },
  {
   "cell_type": "markdown",
   "metadata": {},
   "source": [
    "Clever use of a `defaultdict` can be the solution to the problem of data-storing in a smoothing $N$-gram pointed out above:\n",
    "    \n",
    "    ngram = defaultdict(lambda: k/(N+kV), ngram)"
   ]
  },
  {
   "cell_type": "markdown",
   "metadata": {},
   "source": [
    "The following function is given:"
   ]
  },
  {
   "cell_type": "code",
   "execution_count": 16,
   "metadata": {
    "collapsed": true
   },
   "outputs": [],
   "source": [
    "import numpy as np\n",
    "from collections import defaultdict, Counter\n",
    "train_file = \"ted/ted-train.txt\"\n",
    "\n",
    "def read(fname, max_lines=np.inf):\n",
    "    \"\"\"\n",
    "    Reads in the data in fname and returns it as\n",
    "    one long list of words. Also returns a vocabulary in\n",
    "    the form of a word2index and index2word dictionary.\n",
    "    \"\"\"\n",
    "    data = []\n",
    "    # w2i will automatically keep a counter to asign to new words\n",
    "    w2i = defaultdict(lambda: len(w2i))\n",
    "    i2w = dict()\n",
    "    start = \"<s>\"\n",
    "    end = \"</s>\"\n",
    "    \n",
    "    with open(fname, \"r\") as fh:\n",
    "        for k, line in enumerate(fh):\n",
    "            if k > max_lines:\n",
    "                break\n",
    "            words = line.strip().split()\n",
    "            # assign an index to each word\n",
    "            for w in words:\n",
    "                i2w[w2i[w]] = w # trick\n",
    "            \n",
    "            sent = [start] + words + [end]\n",
    "            data.append(sent)\n",
    "\n",
    "    return data, w2i, i2w\n",
    "data,w2i, i2w = read(train_file)"
   ]
  },
  {
   "cell_type": "code",
   "execution_count": 17,
   "metadata": {
    "collapsed": true
   },
   "outputs": [],
   "source": [
    "def train_ngram(data, N, k=0):\n",
    "    \"\"\"\n",
    "    Trains an n-gram language model with optional add-k smoothing\n",
    "    and additionaly returns the unigram model\n",
    "\n",
    "    :param data: text-data as returned by read\n",
    "    :param N: (N>1) the order of the ngram e.g. N=2 gives a bigram\n",
    "    :param k: optional add-k smoothing\n",
    "    :returns: ngram and unigram\n",
    "    \"\"\"\n",
    "    # Unpack data\n",
    "    unpacked_data = [word for sent in data for word in sent]\n",
    "    \n",
    "    # Initialize ngram & unigram datastructure\n",
    "    ngram = defaultdict(Counter) # ngram[history][word] = #(history,word)\n",
    "    unigram = defaultdict(float, Counter(unpacked_data)) # default prob is 0.0           \n",
    "    \n",
    "    # Fill ngram with counts\n",
    "    for i, word in enumerate(unpacked_data):\n",
    "        if i >= (N-1):\n",
    "            history = ' '.join(unpacked_data[i-(N-1):i])\n",
    "            ngram[history][word] += 1\n",
    "            \n",
    "    # Compute vocabulary size and token size\n",
    "    V = len(set(unpacked_data))\n",
    "    nr_tokens = len(unpacked_data)        \n",
    "    \n",
    "    # Convert counts to probabilities\n",
    "    if k == 0:\n",
    "        # For ngram\n",
    "        for history, counter in ngram.items():\n",
    "            total = sum(counter.values())\n",
    "            for word,freq in counter.items():\n",
    "                ngram[history][word] = freq/float(total)\n",
    "                \n",
    "        # For unigram\n",
    "        for word,freq in unigram.items():\n",
    "            unigram[word] = freq/float(nr_tokens)\n",
    "    # Convert ngram counts to probabilities in the case of smoothing\n",
    "    else: \n",
    "        # For ngram\n",
    "        for history, counter in ngram.items():\n",
    "            hist_freq = sum(counter.values())\n",
    "            word_dic = defaultdict(lambda: k/float(hist_freq+(k*V)))\n",
    "            for word,freq in counter.items():\n",
    "                word_dic[word] = (freq+k)/float(hist_freq+(k*V))\n",
    "            ngram[history] = word_dic\n",
    "        ngram = defaultdict(lambda: defaultdict(lambda: k/(nr_tokens+k*V)), ngram)\n",
    "        \n",
    "        # For unigram\n",
    "        for word,freq in unigram.items():\n",
    "            unigram[word] = (k+freq)/float(k*V+nr_tokens)\n",
    "    return ngram, unigram"
   ]
  },
  {
   "cell_type": "code",
   "execution_count": 18,
   "metadata": {},
   "outputs": [
    {
     "name": "stdout",
     "output_type": "stream",
     "text": [
      "8.901943490106647e-07\n",
      "New York dog 0\n",
      "0.25559947299077734\n"
     ]
    }
   ],
   "source": [
    "# Train for N = 2\n",
    "bigram, unigram = train_ngram(data,2)\n",
    "\n",
    "# Train for N = 3\n",
    "trigram, unigram = train_ngram(data,3)\n",
    "print(unigram['Petra'])\n",
    "print('New York dog', trigram['New York']['dog'])\n",
    "print(trigram['New York']['City'])\n",
    "\n",
    "# Train for N = 4\n",
    "quadgram, unigram = train_ngram(data,4)\n"
   ]
  },
  {
   "cell_type": "markdown",
   "metadata": {},
   "source": [
    "## Exercise 2.2 (5 points)\n",
    "\n",
    "You can use an *N*-gram language model to **generate text**. The higher the order *N* the better your model will be able to catch the long-range dependecies that occur in actual sentences and the better your changes are at generating sensible text. But beware: **sparsity** of language data will quickly cause your model to reproduce entire lines from your training data; in such cases only one $w_k$ was observed for the histories $w_{k-N+1}\\dots w_{k-1}$ in the entire training-set.\n",
    "\n",
    "**Complete** the function `generate_sent`. It takes a language model `lm` and an order `N` and should generate a sentence by **sampling** from the language model.\n",
    "\n",
    "**[Hint]** You can use the method of [inverse transform sampling](https://en.wikipedia.org/wiki/Inverse_transform_sampling) to generate a sample from a **categorical distribution**, $p_1\\dots p_k$ such that $p_i \\geq 0$ and $\\sum_{i=1}^k p_i = 1$, as follows:"
   ]
  },
  {
   "cell_type": "code",
   "execution_count": 19,
   "metadata": {},
   "outputs": [
    {
     "name": "stdout",
     "output_type": "stream",
     "text": [
      "2\n",
      "Counter({1: 520, 2: 203, 0: 178, 3: 99})\n"
     ]
    }
   ],
   "source": [
    "from random import random\n",
    "\n",
    "P = [0.2,0.5,0.2,0.1]\n",
    "\n",
    "def sample(P):\n",
    "    u = random() # uniformly random number between 0 and 1\n",
    "    p = 0\n",
    "    for i, p_i in enumerate(P):\n",
    "        p += p_i\n",
    "        if p > u: \n",
    "            return i # the first i s.t. p1 + ... + pi > u\n",
    "        \n",
    "print(sample(P))\n",
    "\n",
    "print(Counter([sample(P) for i in range(1000)])) # check to see if the law of large numbers is still true"
   ]
  },
  {
   "cell_type": "markdown",
   "metadata": {},
   "source": [
    "Inverse transform sampling in the words of Jurafsky and Martin:\n",
    "\n",
    "> Imagine all the words of the English language covering the probability space\n",
    "between 0 and 1, each word covering an interval proportional to its frequency. We\n",
    "choose a random value between 0 and 1 and print the word whose interval includes\n",
    "this chosen value.\n",
    "\n",
    "(J&M, section 4.3)"
   ]
  },
  {
   "cell_type": "code",
   "execution_count": 20,
   "metadata": {},
   "outputs": [
    {
     "data": {
      "text/plain": [
       "'<s> Let me -- oh , and we are the Everglade snail . </s>'"
      ]
     },
     "execution_count": 20,
     "metadata": {},
     "output_type": "execute_result"
    }
   ],
   "source": [
    "def generate_sent(lm, N):\n",
    "    # Get start of the sentence\n",
    "    hist_counter = Counter()\n",
    "    for hist in lm.keys():\n",
    "        try:\n",
    "            if hist.split()[0] == '<s>':\n",
    "                hist_counter[hist] += 1\n",
    "        except:\n",
    "            continue\n",
    "    total_count = sum(hist_counter.values())\n",
    "    \n",
    "    # Convert history counts to probabilities\n",
    "    hist_prob = defaultdict(float)\n",
    "    for hist,count in hist_counter.items():\n",
    "        hist_prob[hist] = count/float(total_count)\n",
    "    idx = sample(hist_prob.values())\n",
    "    sent = [hist for j, hist in enumerate(hist_prob.keys()) if j == idx][0].split()\n",
    "    hist = \" \".join(sent)\n",
    "    \n",
    "    # Generate a sentence until the stop sign occurs\n",
    "    while sent[-1] != '</s>':\n",
    "        idx = sample(lm[hist].values())\n",
    "        predicted_word = [word for j, word in enumerate(lm[hist].keys()) if j == idx][0]\n",
    "        sent.append(predicted_word)\n",
    "        hist = \" \".join(sent[-(N-1):])\n",
    "    return \" \".join(sent)\n",
    "\n",
    "generate_sent(bigram,2)"
   ]
  },
  {
   "cell_type": "markdown",
   "metadata": {},
   "source": [
    "### [Optional]\n",
    "\n",
    "For how many of the histories $w_{k-N+1}\\dots w_{k-1}$ is the number of continuations $w_n$ equal to **one**? Calculate the percentage of such cases for the different orders *N*.\n",
    "\n",
    "And which history has the **most possible continuations**?"
   ]
  },
  {
   "cell_type": "code",
   "execution_count": null,
   "metadata": {
    "collapsed": true
   },
   "outputs": [],
   "source": [
    "### ANSWER ###"
   ]
  },
  {
   "cell_type": "markdown",
   "metadata": {},
   "source": [
    "## Excercise 2.3 (5 points)\n",
    "\n",
    "Let $V$ denote our vocabulary. Recall that for any $w$ in $V$ `bigram[w]` defines a conditional probability $p(v|w)$ over $v$ in $V$. In the case of an **unsmoothed bigram**, $p(v|w) = 0$ for most $v\\in V$, whereas in the **smoothed bigram** smoothing took care that $p(v|w) \\geq 0$ for *all* $v$.\n",
    "\n",
    "The function `plot_bigram_dist(word, bigram, smoothbigram, k=30)` plots shows $p(v|word)$ for the `k` words $v$. One bar shows the probabilities in `bigram` and one in `smoothbigram`. \n",
    "\n",
    "**(a)** Use this function to plot the distribution for at least two words `w` and answer the questions\n",
    "* What is the effect of smoothing on the bigram distribution of frequent words? \n",
    "* What is the effect in the case of infrequent words?\n",
    "* Explain the difference between the two based on the raw counts of `w` \n",
    "\n",
    "**(b)** Now experiment with $k$ much smaller than 1 (but greater than 0!) \n",
    "* What are the effects?\n",
    "\n",
    "\n",
    "**[Hint]** Remember that add-1 smoothing turns \n",
    "$$P(w_n\\mid w_{n-1}) = \\frac{C(w_{n-1}w_{n})}{C(w_{n-1})}$$\n",
    "into\n",
    "$$P_{add-1}(w_n\\mid w_{n-1}) = \\frac{C(w_{n-1}w_{n}) + 1}{C(w_{n-1}) + |V|}.$$\n",
    "\n",
    "What happens when $C(w_{n-1})$ is relatively big (similiar in of size as $ |V| $)? And what if $C(w_{n-1})$ is small? "
   ]
  },
  {
   "cell_type": "code",
   "execution_count": 21,
   "metadata": {},
   "outputs": [
    {
     "data": {
      "text/plain": [
       "[(',', 0.053624595428923234),\n",
       " ('<s>', 0.04743097922624663),\n",
       " ('.', 0.04743097922624663),\n",
       " ('</s>', 0.04743097922624663),\n",
       " ('the', 0.03472897409908326),\n",
       " ('to', 0.02207735397207389),\n",
       " ('of', 0.0203167275886006),\n",
       " ('and', 0.018895087213230567),\n",
       " ('a', 0.018278716645975582),\n",
       " ('that', 0.015965101532896864)]"
      ]
     },
     "execution_count": 21,
     "metadata": {},
     "output_type": "execute_result"
    }
   ],
   "source": [
    "sorted(unigram.items(), reverse=True, key=lambda t: t[1])[0:10]"
   ]
  },
  {
   "cell_type": "code",
   "execution_count": 22,
   "metadata": {
    "collapsed": true
   },
   "outputs": [],
   "source": [
    "import pandas as pd\n",
    "import seaborn as sns    \n",
    "\n",
    "def plot_bigram_dist(word, bigram, smoothbigram, k=30):\n",
    "    d = bigram[word]\n",
    "    ds = smoothbigram[word]\n",
    "    \n",
    "    # sort the probabilities\n",
    "    d_sort = sorted(d.items(), reverse=True, key=lambda t: t[1])[0:k]\n",
    "    ds_sort = sorted(ds.items(), reverse=True, key=lambda t: t[1])[0:k]\n",
    "    \n",
    "    _, probs = zip(*d_sort)\n",
    "    smooth_ws, smooth_probs = zip(*ds_sort)\n",
    "    \n",
    "    # make up for the fact that in the unsmoothed case  probs is generally less than k long\n",
    "    probs = probs + (0,) * (k-len(probs)) \n",
    "\n",
    "    w_data = pd.DataFrame({\"w\": smooth_ws * 2,\n",
    "                           \"P({}|w)\".format(word): probs + smooth_probs,\n",
    "                           \"smoothing\": [\"unsmoothed\"]*k + [\"smoothed\"]*k})\n",
    "    \n",
    "    fig, ax = plt.subplots(figsize=(10,10))\n",
    "    plt.xticks(rotation=90)\n",
    "    g = sns.barplot(ax=ax, x=\"w\", y=\"P({}|w)\".format(word), hue=\"smoothing\",\n",
    "                    data=w_data, palette=\"Blues_d\")    "
   ]
  },
  {
   "cell_type": "code",
   "execution_count": null,
   "metadata": {
    "collapsed": true
   },
   "outputs": [],
   "source": [
    "bigram, unigram = train_ngram(data,2,0)\n",
    "smoothbigram, _ = train_ngram(data,2,1)"
   ]
  },
  {
   "cell_type": "code",
   "execution_count": null,
   "metadata": {},
   "outputs": [],
   "source": [
    "plot_bigram_dist('the', bigram, smoothbigram)"
   ]
  },
  {
   "cell_type": "code",
   "execution_count": null,
   "metadata": {},
   "outputs": [],
   "source": [
    "plot_bigram_dist('strange', bigram, smoothbigram)"
   ]
  },
  {
   "cell_type": "markdown",
   "metadata": {},
   "source": [
    "In the case of frequent words (such as 'the'), smoothed is proportionally smaller than unsmoothed.\n",
    "\n",
    "In the case of infrequent words, smoothed approaches 0.\n",
    "\n",
    "\n",
    "Explain the difference between the two based on the raw counts of w"
   ]
  },
  {
   "cell_type": "markdown",
   "metadata": {},
   "source": [
    "\n",
    "**Recall** that if we have a sentence $w_1,\\dots,w_n$ we can write\n",
    "\n",
    "$$P(w_1\\dots w_n) = P(w_1)P(w_2|w_1) \\cdots P(w_i|w_1 \\dots w_{n-1}) \\approx P(w_1)P(w_2|w_1)\\cdots P(w_{N-1}|w_1\\dots w_{N-2})\\prod_{i=N}^{n} P(w_i|w_{i-(N-1)}\\dots w_{i-1})$$\n",
    "\n",
    "where in the last step we make an $N$-gram approximation of the full conditionals.\n",
    "\n",
    "For example, in the case of a bigram (N=2), the above expression reduces to\n",
    "\n",
    "$$P(w_1 \\dots w_n)\\approx P(w_1)\\prod_{i=2}^{n} P(w_i| w_{i-1}).$$\n",
    "\n",
    "## Exercise 2.4 (5 points)\n",
    "\n",
    "The following sentences are taken from the **training data**. Use your **unsmoothed unigram**, **bigram**, and **trigram** language model to estimate their **probabilities**:\n",
    "\n",
    "    1. Every day was about creating something new .\n",
    "    2. In this machine , a beam of protons and anti-protons are accelerated to near the speed of light and brought \n",
    "       together in a collision , producing a burst of pure energy .\n",
    "\n",
    "**Repeat** this with the **smoothed (add-1)** versions of the N-grams. What is the effect of smoothing on the probabilities?\n"
   ]
  },
  {
   "cell_type": "code",
   "execution_count": null,
   "metadata": {},
   "outputs": [],
   "source": [
    "# train required unsmoothed models\n",
    "bigram, unigram = train_ngram(data,2,0)\n",
    "trigram, _ = train_ngram(data,3,0)\n",
    "\n",
    "# train required smoothed models\n",
    "bigram_smoothed, unigram_smoothed = train_ngram(data,2,1)\n",
    "trigram_smoothed, _ = train_ngram(data,3,1)"
   ]
  },
  {
   "cell_type": "code",
   "execution_count": null,
   "metadata": {},
   "outputs": [],
   "source": [
    "s1 = \"<s> Every day was about creating something new . </s>\".split()\n",
    "s2 = \"<s> In this machine , a beam of protons and anti-protons are accelerated to near the speed of light and brought together in a collision , producing a burst of pure energy . </s>\".split()\n",
    "\n",
    "def sentence_prob(sent, lm, N):\n",
    "    hist= []\n",
    "    p = 1\n",
    "    \n",
    "    for i,token in enumerate(sent):\n",
    "        # Unigram case\n",
    "        if N == 1:\n",
    "            p *= lm[token]\n",
    "            \n",
    "        # ngram case\n",
    "        else:\n",
    "            if i >= N-1:\n",
    "                hist = sent[i-(N-1):i]\n",
    "                p *= lm[\" \".join(hist)][token]\n",
    "    return p\n",
    "\n",
    "print(\"##### Unsmoothed #####\")\n",
    "print(\" \".join(s1))\n",
    "uni_p = sentence_prob(s1, unigram, 1)   \n",
    "bi_p = sentence_prob(s1, bigram, 2)\n",
    "tri_p = sentence_prob(s1,trigram,3)\n",
    "print('Unigram:\\t', uni_p)   \n",
    "print('Bigram : \\t', bi_p)\n",
    "print('Trigram: \\t', tri_p,'\\n')\n",
    "\n",
    "print(\" \".join(s2))\n",
    "uni_p = sentence_prob(s2, unigram, 1)   \n",
    "bi_p = sentence_prob(s2, bigram, 2)\n",
    "tri_p = sentence_prob(s2,trigram,3)\n",
    "print('Unigram:\\t', uni_p)   \n",
    "print('Bigram : \\t', bi_p)\n",
    "print('Trigram: \\t', tri_p,'\\n')\n",
    "\n",
    "print(\"##### Smoothed #####\")\n",
    "print(\" \".join(s1))\n",
    "uni_p = sentence_prob(s1, unigram_smoothed, 1)   \n",
    "bi_p = sentence_prob(s1, bigram_smoothed, 2)\n",
    "tri_p = sentence_prob(s1,trigram_smoothed,3)\n",
    "print('Unigram:\\t', uni_p)   \n",
    "print('Bigram : \\t', bi_p)\n",
    "print('Trigram: \\t', tri_p,'\\n')\n",
    "\n",
    "print(\" \".join(s2))\n",
    "uni_p = sentence_prob(s2, unigram_smoothed, 1)   \n",
    "bi_p = sentence_prob(s2, bigram_smoothed, 2)\n",
    "tri_p = sentence_prob(s2,trigram_smoothed,3)\n",
    "print('Unigram:\\t', uni_p)   \n",
    "print('Bigram : \\t', bi_p)\n",
    "print('Trigram: \\t', tri_p,'\\n')"
   ]
  },
  {
   "cell_type": "markdown",
   "metadata": {},
   "source": [
    "The effect of smoothing is that the overall probability of sentences decreases. This is because probability mass is taken from seen words and transfered to unseen words."
   ]
  },
  {
   "cell_type": "markdown",
   "metadata": {},
   "source": [
    "## Exercise 2.5 (5 points)\n",
    "\n",
    "The above sentences were taken from the training set, hence they will all have probability greater than 0. The big challenge for our language model are of course with sentence that contain unseen N-grams: if such an N-gram occurs our model immediately assigns the sentence probability zero.\n",
    "\n",
    "The following three senteces are taken from the **test set** availlable in the file **ted-test.txt**. What probabilities do your smoothed and unsmoothed language models asign in this case?\n",
    "\n",
    "    1. Because these robots are really safe .\n",
    "    2. We have sheer nothingness on one side , and we have this vision of a reality that encompasses every \n",
    "       conceivable world at the other extreme : the fullest possible reality , nothingness , the simplest possible \n",
    "       reality ."
   ]
  },
  {
   "cell_type": "code",
   "execution_count": null,
   "metadata": {},
   "outputs": [],
   "source": [
    "s1 = \"<s> Because these robots are really safe . </s>\".split()\n",
    "s2 = \"<s> We have sheer nothingness on one side , and we have this vision of a reality that encompasses every conceivable world at the other extreme : the fullest possible reality , nothingness , the simplest possible reality . </s>\".split()\n",
    "\n",
    "print(\"##### Unsmoothed #####\")\n",
    "print(\" \".join(s1))\n",
    "uni_p = sentence_prob(s1, unigram, 1)   \n",
    "bi_p = sentence_prob(s1, bigram, 2)\n",
    "tri_p = sentence_prob(s1,trigram,3)\n",
    "print('Unigram:\\t', uni_p)   \n",
    "print('Bigram : \\t', bi_p)\n",
    "print('Trigram: \\t', tri_p,'\\n')\n",
    "\n",
    "print(\" \".join(s2))\n",
    "uni_p = sentence_prob(s2, unigram, 1)   \n",
    "bi_p = sentence_prob(s2, bigram, 2)\n",
    "tri_p = sentence_prob(s2,trigram,3)\n",
    "print('Unigram:\\t', uni_p)   \n",
    "print('Bigram : \\t', bi_p)\n",
    "print('Trigram: \\t', tri_p,'\\n')\n",
    "\n",
    "print(\"##### Smoothed #####\")\n",
    "print(\" \".join(s1))\n",
    "uni_p = sentence_prob(s1, unigram_smoothed, 1)   \n",
    "bi_p = sentence_prob(s1, bigram_smoothed, 2)\n",
    "tri_p = sentence_prob(s1,trigram_smoothed,3)\n",
    "print('Unigram:\\t', uni_p)   \n",
    "print('Bigram : \\t', bi_p)\n",
    "print('Trigram: \\t', tri_p,'\\n')\n",
    "\n",
    "print(\" \".join(s2))\n",
    "uni_p = sentence_prob(s2, unigram_smoothed, 1)   \n",
    "bi_p = sentence_prob(s2, bigram_smoothed, 2)\n",
    "tri_p = sentence_prob(s2,trigram_smoothed,3)\n",
    "print('Unigram:\\t', uni_p)   \n",
    "print('Bigram : \\t', bi_p)\n",
    "print('Trigram: \\t', tri_p,'\\n')"
   ]
  },
  {
   "cell_type": "markdown",
   "metadata": {},
   "source": [
    "### [Optional]\n",
    "\n",
    "**Optional** What percentage of the sentences in the test set get assigned probability 0 under your smoothed and unsmoothed language models? "
   ]
  },
  {
   "cell_type": "code",
   "execution_count": null,
   "metadata": {
    "collapsed": true
   },
   "outputs": [],
   "source": [
    "### ANSWER HERE ###"
   ]
  },
  {
   "cell_type": "markdown",
   "metadata": {},
   "source": [
    "## Exercise 2.6 (5 points)\n",
    "\n",
    "**Perplexity** is very frequently used **metric** for evaluating probabilistic models such as language models. The perplexity (sometimes called **PP** for short) of a language model on a sentence is the **inverse probability** of the sentence, **normalized** by the number of words:\n",
    "\n",
    "$$PP(w_1 \\dots w_n) = P(w_1\\dots w_n)^{-\\frac{1}{n}}.$$\n",
    "\n",
    "Here we can again approximate $P(w_1 \\dots w_n)$ with N-gram probabilities, as above.\n",
    "Note: $(x_1\\cdots x_n)^{-\\frac{1}{n}}$ is the **geometric mean** of the numbers $x_1,\\dots,x_n$. It is like the (regular) artithmetic mean, but with **products** instead of **sums**. The geometric mean is a more natural choice in the case of *PP* because behind $P(w_1\\dots w_n)$ is a series of $n$ products ([more here](https://en.wikipedia.org/wiki/Geometric_mean)).\n",
    "\n",
    "\n",
    "\n",
    "Compute the perplexity of the training sentences from excercise 2.1. What big difference between the **probabilities** of the sentences and the **perplexities** of the sentences do you notice?"
   ]
  },
  {
   "cell_type": "code",
   "execution_count": null,
   "metadata": {},
   "outputs": [],
   "source": [
    "def perplexity(sent, lm, N, n_words):\n",
    "    return pow(sentence_prob(sent, lm, N), (1/n_words))\n",
    "\n",
    "lm = bigram\n",
    "N = 2\n",
    "s1 = \"<s> Every day was about creating something new . </s>\".split()\n",
    "p1 = sentence_prob(s1,lm,N)\n",
    "pp1 = perplexity(s1, lm, N, len(s1))\n",
    "\n",
    "s2 = \"<s> In this machine , a beam of protons and anti-protons are accelerated to near the speed of light and brought together in a collision , producing a burst of pure energy . </s>\".split()\n",
    "p2 = sentence_prob(s2,lm,N)\n",
    "pp2 = perplexity(s2, lm, N, len(s2))\n",
    "\n",
    "print(\" \".join(s1))\n",
    "print('Probability:',p1)\n",
    "print('Perplexity:',pp1,'\\n')\n",
    "\n",
    "print(\" \".join(s2))\n",
    "print('Probability:',p2)\n",
    "print('Perplexity:',pp2)\n",
    "# probably: probabilities and perplexities are inversely related\n",
    "# problem: because probabilities are very small, raising them to power len(data) results in 0.0\n",
    "# TODO: fix this problem (use log?)"
   ]
  },
  {
   "cell_type": "markdown",
   "metadata": {},
   "source": [
    "The difference seems to be the order of magnitude. The probability is almost the inverse of the amount of particles in the universe whereas the perplexity is simply 0.008"
   ]
  },
  {
   "cell_type": "markdown",
   "metadata": {},
   "source": [
    "# That's it!\n",
    "\n",
    "Congratulations, you have made it to the end of the tutorial. Here we will recap the gist of this notebook. \n",
    "\n",
    "**Make sure all your cells can be executed and all your answers are there. Then, read on if you're interested!**\n",
    "\n",
    "-----\n",
    "\n",
    "By now you should have a solid feeling for the problem of **sparsity in language data**; there's just never enough data. For the task of language modelling, we saw that sparsity is a serious challenge. \n",
    "\n",
    "It would be great to be able to model $p(w_n|w_1 \\dots w_{n-1})$ for unlimited $n$: the larger $n$ the better our language model should become at capturing the long-range dependencies between words that characterize actual human sentences, and the more probability our model will asign to such sentences as opposed to sentences that are word-soup. But in the N-gram approach, increasing $n$ will quickly kill all generalizing abilities of the model: the model will start to asign probabilities only to sentences it has seen in the training data.\n",
    "\n",
    "So, where to go from here? Here are three directions that we could head in.\n",
    "\n",
    "### Smoothing\n",
    "\n",
    "We have seen one example of smoothing in this lab: add-k smoothing. This is an easy method, both conceptually and implementation-wise. But the results are not great, and the effects it has on the distributions can be extreme.\n",
    "\n",
    "A much more sophisticated method of smoothing is so-called **Kneser-Ney smoothing**. The method is described in detail in section 4.5 of J&M (3rd edition). This is one of the best performing N-gram smoothing methods, and up to a few years ago a popular implementation of it called [KenLM](https://kheafield.com/code/kenlm/) gave state of the art results.\n",
    "\n",
    "### From words to characters\n",
    "\n",
    "In this lab we have considered language modeling as the task of predicting a **word** $w_n$ based on a history of **words** $w_1\\cdots w_n$. What if instead we let our basic units of modelling be **characters**? The task then becomes to model $p(c_k\\mid c_{k-N-1}\\dots c_{k-1})$ where each $c_i$ is now an ASCII character instead of an entire word.\n",
    "\n",
    "Suddenly sparsity of data is no longer a problem! The set of characters to use is tiny (< 100) compared to even a small-sized vocabulary as today. Have a look at this very illustrative notebook written by Yoav Golberg to see such a method in action: [The unreasonable effectiveness of Character-level Language Models](http://nbviewer.jupyter.org/gist/yoavg/d76121dfde2618422139).\n",
    "\n",
    "(So what is the downside?)\n",
    "\n",
    "\n",
    "### Neural language models\n",
    "\n",
    "The above notebook was actually written as a response to this blog post by Andrej Karpathy: [The Unreasonable Effectiveness of Recurrent Neural Networks](http://karpathy.github.io/2015/05/21/rnn-effectiveness/). Go ahead and read it if you haven't already: it is a superb introduction to the topic of Recurrent Neural Networks.\n",
    "\n",
    "Neural language models solve the problem of data sparsity in a different manner. Instead of estimating the probabilities $p(w_k\\mid w_{k-N-1}\\dots w_{k-1})$ by counting occurences in the data, they use a neural network $f_{\\theta}$ parametrized by parameters $\\theta$ to predict this probability. The parameters $\\theta$ are learned through optimization. \n",
    "\n",
    "The simplest approach goes like this: each word in the history $w_{k-N-1}\\dots w_{k-1}$ is embedded separately giving  vectors $e_{k-N-1}\\dots e_{k-1}$ and then concatenated into one long vectors $[e_{k-N-1};\\dots ;e_{k-1}]$. The network then uses this history vector to predict a probability distribution over words $w$ in the vocabulary $V$:\n",
    "\n",
    "$$p(w \\mid w_{k-N-1}\\dots w_{k-1}) = f_{\\theta}([e_{k-N-1};\\dots;e_{k-1}]).$$\n",
    "\n",
    "(In order to produce legitimate probabilities the final layer of such a network will be for example a $softmax$.)\n",
    "\n",
    "This provides a solution to the sparsity problem by having the network let the individual embeddings of the words in the history interact through its non-linear transforamtion. We are letting the network figure out the smoothing itself!\n",
    "\n",
    "RNNs are a clever extension of this idea, where a hidden state vector $h$ is re-used and updated at each step $k$ in order to store the information of the entire history up to step $k-1$. That is, an RNN actually does away with the N-order approximation; it tries to model the full conditional directly! That means that\n",
    "\n",
    "$$p(w \\mid w_1\\dots w_{k-1}) \\approx RNN_{\\theta}([e_{k-1};h_{k-1}])$$\n",
    "\n",
    "where the hidden state $h_{k-1}$ is a compression of the *entire history* $w_1\\dots w_{k-1}$.\n",
    "\n",
    "Another great place to learn about RNNs, their problems, and solutions to those, is on the blog of [Christopher Olah](http://colah.github.io/posts/2015-08-Understanding-LSTMs/). The project on language modelling will involve learning more about these methods. \n",
    "\n",
    "-----------\n",
    "(And now, it's time to read the classic essay by Eugene Wigner that gave both of the posts their title: [The Unreasonable Effectiveness of Mathematics in the Natural Sciences](http://www.dartmouth.edu/~matc/MathDrama/reading/Wigner.html))"
   ]
  }
 ],
 "metadata": {
  "anaconda-cloud": {},
  "kernelspec": {
   "display_name": "Python 3",
   "language": "python",
   "name": "python3"
  },
  "language_info": {
   "codemirror_mode": {
    "name": "ipython",
    "version": 3
   },
   "file_extension": ".py",
   "mimetype": "text/x-python",
   "name": "python",
   "nbconvert_exporter": "python",
   "pygments_lexer": "ipython3",
   "version": "3.6.1"
  }
 },
 "nbformat": 4,
 "nbformat_minor": 1
}
